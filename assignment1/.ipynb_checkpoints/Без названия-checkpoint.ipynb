{
 "cells": [
  {
   "cell_type": "code",
   "execution_count": 2,
   "id": "223a0b83",
   "metadata": {},
   "outputs": [],
   "source": [
    "import numpy as np"
   ]
  },
  {
   "cell_type": "code",
   "execution_count": 8,
   "id": "ea58077e",
   "metadata": {},
   "outputs": [],
   "source": [
    "# num_features = np.array(3, np.int64)\n",
    "# num_classes = np.array(10, np.int64)"
   ]
  },
  {
   "cell_type": "code",
   "execution_count": 11,
   "id": "8200b272",
   "metadata": {},
   "outputs": [],
   "source": [
    "num_features = 3\n",
    "num_classes = 10"
   ]
  },
  {
   "cell_type": "code",
   "execution_count": 15,
   "id": "180ef66e",
   "metadata": {},
   "outputs": [
    {
     "data": {
      "text/plain": [
       "array([[0., 0., 0., 0., 0., 0., 0., 0., 0., 0.],\n",
       "       [0., 0., 0., 0., 0., 0., 0., 0., 0., 0.],\n",
       "       [0., 0., 0., 0., 0., 0., 0., 0., 0., 0.]])"
      ]
     },
     "execution_count": 15,
     "metadata": {},
     "output_type": "execute_result"
    }
   ],
   "source": [
    "np.zeros((num_features, num_classes))"
   ]
  },
  {
   "cell_type": "code",
   "execution_count": 12,
   "id": "32a1914f",
   "metadata": {},
   "outputs": [
    {
     "data": {
      "text/plain": [
       "array([[-1.5450646 ,  0.78542655,  0.26241389, -0.5626069 ,  0.5944631 ,\n",
       "        -0.20907089,  0.30646718,  0.56415044,  0.21258254,  1.11442103],\n",
       "       [-1.55099605, -0.41553737,  1.6091227 , -0.88164519, -0.07538294,\n",
       "         1.72317937, -0.88100337, -0.59924229, -1.74026094,  0.42104785],\n",
       "       [-0.03041039, -0.31572731,  0.42865629,  0.96359139, -0.91492886,\n",
       "        -0.13587658, -1.54424666, -0.25486603, -0.56035534,  1.17730251]])"
      ]
     },
     "execution_count": 12,
     "metadata": {},
     "output_type": "execute_result"
    }
   ],
   "source": [
    "np.random.randn(num_features, num_classes)"
   ]
  },
  {
   "cell_type": "code",
   "execution_count": 30,
   "id": "66d9bc4d",
   "metadata": {},
   "outputs": [
    {
     "name": "stdout",
     "output_type": "stream",
     "text": [
      "29.900332225913623\n",
      "29\n"
     ]
    }
   ],
   "source": [
    "print(9000/301)\n",
    "print(int(9000/301))"
   ]
  },
  {
   "cell_type": "code",
   "execution_count": 4,
   "id": "aa8c9acf",
   "metadata": {},
   "outputs": [
    {
     "data": {
      "text/plain": [
       "array([[1. , 0. , 3. ],\n",
       "       [0. , 2. , 0.1]])"
      ]
     },
     "execution_count": 4,
     "metadata": {},
     "output_type": "execute_result"
    }
   ],
   "source": [
    "X = np.array([[1,-2,3],\n",
    "              [-1, 2, 0.1]\n",
    "              ])\n",
    "result = np.where(X > 0, X, 0 )\n",
    "result"
   ]
  },
  {
   "cell_type": "code",
   "execution_count": 5,
   "id": "d3d6cde7",
   "metadata": {},
   "outputs": [
    {
     "name": "stdout",
     "output_type": "stream",
     "text": [
      "[[2 3]]\n"
     ]
    }
   ],
   "source": [
    "X = np.array([1,2])\n",
    "X += 1\n",
    "print(X)"
   ]
  }
 ],
 "metadata": {
  "kernelspec": {
   "display_name": "Python 3",
   "language": "python",
   "name": "python3"
  },
  "language_info": {
   "codemirror_mode": {
    "name": "ipython",
    "version": 3
   },
   "file_extension": ".py",
   "mimetype": "text/x-python",
   "name": "python",
   "nbconvert_exporter": "python",
   "pygments_lexer": "ipython3",
   "version": "3.9.5"
  }
 },
 "nbformat": 4,
 "nbformat_minor": 5
}
